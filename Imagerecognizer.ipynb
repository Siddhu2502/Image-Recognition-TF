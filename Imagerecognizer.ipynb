{
 "cells": [
  {
   "cell_type": "code",
   "execution_count": 14,
   "metadata": {},
   "outputs": [],
   "source": [
    "import os\n",
    "import json\n",
    "import zipfile\n",
    "import random\n",
    "import shutil\n",
    "import tensorflow as tf\n",
    "from tensorflow.keras.preprocessing.image import ImageDataGenerator\n",
    "from shutil import copyfile\n",
    "import matplotlib.pyplot as plt\n",
    "import portpicker\n",
    "import numpy as np\n",
    "from keras.preprocessing import image\n",
    "import tkinter as tk\n",
    "from tkinter import *   \n",
    "from tkinter import filedialog"
   ]
  },
  {
   "cell_type": "code",
   "execution_count": null,
   "metadata": {},
   "outputs": [],
   "source": [
    "!wget --no-check-certificate \\ \"https://download.microsoft.com/download/3/E/1/3E1C3F21-ECDB-4869-8368-6DEBA77B919F/kagglecatsanddogs_5340.zip\" \\ -O \"tmps/cats-and-dogs.zip\"\n",
    "\n",
    "local_zip = 'tmps/cats-and-dogs.zip'\n",
    "zip_ref   = zipfile.ZipFile(local_zip, 'r')\n",
    "zip_ref.extractall('tmps')\n",
    "zip_ref.close()"
   ]
  },
  {
   "cell_type": "code",
   "execution_count": 4,
   "metadata": {},
   "outputs": [
    {
     "name": "stdout",
     "output_type": "stream",
     "text": [
      "INFO:tensorflow:`tf.distribute.experimental.ParameterServerStrategy` is initialized with cluster_spec: ClusterSpec({'chief': ['localhost:17353'], 'ps': ['localhost:18097', 'localhost:19700'], 'worker': ['localhost:21805', 'localhost:22089', 'localhost:22758']})\n",
      "INFO:tensorflow:ParameterServerStrategyV2 is now connecting to cluster with cluster_spec: ClusterSpec({'chief': ['localhost:17353'], 'ps': ['localhost:18097', 'localhost:19700'], 'worker': ['localhost:21805', 'localhost:22089', 'localhost:22758']})\n"
     ]
    }
   ],
   "source": [
    "# Use this function if you want to train the model on cloud GPU's\n",
    "\n",
    "chief_port = portpicker.pick_unused_port()\n",
    "worker_ports = [portpicker.pick_unused_port() for _ in range(3)]\n",
    "ps_ports = [portpicker.pick_unused_port() for _ in range(2)]\n",
    "\n",
    "# Dump the cluster information to `'TF_CONFIG'`.\n",
    "tf_config = {\n",
    "    'cluster': {\n",
    "        'chief': [\"localhost:%s\" % chief_port],\n",
    "        'worker': [\"localhost:%s\" % port for port in worker_ports],\n",
    "        'ps':  [\"localhost:%s\" % port for port in ps_ports],\n",
    "    },\n",
    "    'task': {'type': 'chief', 'index': 0}\n",
    "}\n",
    "os.environ['TF_CONFIG'] = json.dumps(tf_config)\n",
    "\n",
    "# Use a cluster resolver to bridge the information to the strategy created below.\n",
    "cluster_resolver = tf.distribute.cluster_resolver.TFConfigClusterResolver()\n",
    "strategy = tf.distribute.experimental.ParameterServerStrategy(cluster_resolver)"
   ]
  },
  {
   "cell_type": "code",
   "execution_count": 15,
   "metadata": {},
   "outputs": [
    {
     "name": "stdout",
     "output_type": "stream",
     "text": [
      "There are 12501 images of dogs.\n",
      "There are 12501 images of cats.\n"
     ]
    },
    {
     "name": "stderr",
     "output_type": "stream",
     "text": [
      "FIND: Invalid switch\n"
     ]
    }
   ],
   "source": [
    "source_path = 'tmps/PetImages'\n",
    "\n",
    "source_path_dogs = os.path.join(source_path, 'Dog')\n",
    "source_path_cats = os.path.join(source_path, 'Cat')\n",
    "\n",
    "# Deletes all non-image files (there are two .db files bundled into the dataset)\n",
    "!find /tmp/PetImages/ -type f ! -name \"*.jpg\" -exec rm {} +\n",
    "\n",
    "# os.listdir returns a list containing all files under the given path\n",
    "print(f\"There are {len(os.listdir(source_path_dogs))} images of dogs.\")\n",
    "print(f\"There are {len(os.listdir(source_path_cats))} images of cats.\")"
   ]
  },
  {
   "cell_type": "code",
   "execution_count": 16,
   "metadata": {},
   "outputs": [],
   "source": [
    "# defining root directory\n",
    "root_dir = 'tmps/cats-v-dogs'\n",
    "\n",
    "# Empty directory to prevent FileExistsError is the function is run several times\n",
    "if os.path.exists(root_dir):\n",
    "  shutil.rmtree(root_dir)\n",
    "\n",
    "# creating train, test, and validation subfolders\n",
    "def create_train_val_dirs(root_path):\n",
    "  # Creates directories for the train and test sets\n",
    "  train_dir = os.path.join(root_dir,'training')\n",
    "  validation_dir = os.path.join(root_dir,'validation')\n",
    "\n",
    "\n",
    "  train_cats_dir = os.path.join(train_dir,'cats')\n",
    "  train_dogs_dir = os.path.join(train_dir,'dogs')\n",
    "\n",
    "  validation_cats_dir = os.path.join(validation_dir,'cats')\n",
    "  validation_dogs_dir = os.path.join(validation_dir,'dogs')\n",
    "\n",
    "  os.makedirs(train_dir)\n",
    "  os.makedirs(validation_dir)\n",
    "  os.makedirs(train_cats_dir)\n",
    "  os.makedirs(train_dogs_dir)\n",
    "  os.makedirs(validation_cats_dir)\n",
    "  os.makedirs(validation_dogs_dir)\n",
    "\n",
    "  pass\n",
    "\n",
    "# Copying files to train and validation directories\n",
    "try:\n",
    "  create_train_val_dirs(root_path=root_dir)\n",
    "except FileExistsError:\n",
    "  print(\"You should not be seeing this since the upper directory is removed beforehand\")"
   ]
  },
  {
   "cell_type": "code",
   "execution_count": 17,
   "metadata": {},
   "outputs": [
    {
     "name": "stdout",
     "output_type": "stream",
     "text": [
      "tmps/cats-v-dogs\\training\n",
      "tmps/cats-v-dogs\\validation\n",
      "tmps/cats-v-dogs\\training\\cats\n",
      "tmps/cats-v-dogs\\training\\dogs\n",
      "tmps/cats-v-dogs\\validation\\cats\n",
      "tmps/cats-v-dogs\\validation\\dogs\n"
     ]
    }
   ],
   "source": [
    "# Test your create_train_val_dirs function\n",
    "\n",
    "for rootdir, dirs, files in os.walk(root_dir):\n",
    "    for subdir in dirs:\n",
    "        print(os.path.join(rootdir, subdir))"
   ]
  },
  {
   "cell_type": "code",
   "execution_count": 20,
   "metadata": {},
   "outputs": [],
   "source": [
    "# split the data into train and test (validation) sets\n",
    "import numpy as np\n",
    "\n",
    "def split_data(SOURCE_DIR, TRAINING_DIR, VALIDATION_DIR, SPLIT_SIZE):\n",
    "  \n",
    "  files = []\n",
    "  for filename in os.listdir(SOURCE_DIR):\n",
    "    File = SOURCE_DIR + filename\n",
    "    if os.path.getsize(File)>0:\n",
    "      files.append(filename)\n",
    "    else:\n",
    "      print(\"file is empty ignoring\")\n",
    "\n",
    "  training_len = int(len(files)*SPLIT_SIZE)\n",
    "  validation_len = int(len(files) - training_len)\n",
    "\n",
    "  shuffled_data = random.sample(files,len(files))\n",
    "  training_data = shuffled_data[0:training_len]\n",
    "  validation_data = shuffled_data[-validation_len:]\n",
    "\n",
    "  for filename in training_data:\n",
    "    src = SOURCE_DIR + filename\n",
    "    dest = TRAINING_DIR + filename\n",
    "    shutil.copyfile(src,dest)\n",
    "\n",
    "  for filename in validation_data:\n",
    "    src = SOURCE_DIR + filename\n",
    "    dest = VALIDATION_DIR + filename\n",
    "    shutil.copyfile(src,dest)\n",
    "  \n",
    "  pass"
   ]
  },
  {
   "cell_type": "code",
   "execution_count": 21,
   "metadata": {},
   "outputs": [
    {
     "name": "stdout",
     "output_type": "stream",
     "text": [
      "file is empty ignoring\n",
      "file is empty ignoring\n",
      "\n",
      "\n",
      "Original cat's directory has 12501 images\n",
      "Original dog's directory has 12501 images\n",
      "\n",
      "There are 11250 images of cats for training\n",
      "There are 11250 images of dogs for training\n",
      "There are 1250 images of cats for validation\n",
      "There are 1250 images of dogs for validation\n"
     ]
    }
   ],
   "source": [
    "# Define paths\n",
    "CAT_SOURCE_DIR = \"tmps/PetImages/Cat/\"\n",
    "DOG_SOURCE_DIR = \"tmps/PetImages/Dog/\"\n",
    "\n",
    "TRAINING_DIR = \"tmps/cats-v-dogs/training/\"\n",
    "VALIDATION_DIR = \"tmps/cats-v-dogs/validation/\"\n",
    "\n",
    "TRAINING_CATS_DIR = os.path.join(TRAINING_DIR, \"cats/\")\n",
    "VALIDATION_CATS_DIR = os.path.join(VALIDATION_DIR, \"cats/\")\n",
    "\n",
    "TRAINING_DOGS_DIR = os.path.join(TRAINING_DIR, \"dogs/\")\n",
    "VALIDATION_DOGS_DIR = os.path.join(VALIDATION_DIR, \"dogs/\")\n",
    "\n",
    "# Empty directories in case you run this cell multiple times\n",
    "if len(os.listdir(TRAINING_CATS_DIR)) > 0:\n",
    "  for file in os.scandir(TRAINING_CATS_DIR):\n",
    "    os.remove(file.path)\n",
    "if len(os.listdir(TRAINING_DOGS_DIR)) > 0:\n",
    "  for file in os.scandir(TRAINING_DOGS_DIR):\n",
    "    os.remove(file.path)\n",
    "if len(os.listdir(VALIDATION_CATS_DIR)) > 0:\n",
    "  for file in os.scandir(VALIDATION_CATS_DIR):\n",
    "    os.remove(file.path)\n",
    "if len(os.listdir(VALIDATION_DOGS_DIR)) > 0:\n",
    "  for file in os.scandir(VALIDATION_DOGS_DIR):\n",
    "    os.remove(file.path)\n",
    "\n",
    "# Define proportion of images used for training\n",
    "split_size = .9\n",
    "\n",
    "# Run the function\n",
    "# NOTE: Messages about zero length images should be printed out\n",
    "split_data(CAT_SOURCE_DIR, TRAINING_CATS_DIR, VALIDATION_CATS_DIR, split_size)\n",
    "split_data(DOG_SOURCE_DIR, TRAINING_DOGS_DIR, VALIDATION_DOGS_DIR, split_size)\n",
    "\n",
    "# Check that the number of images matches the expected output\n",
    "\n",
    "# Your function should perform copies rather than moving images so original directories should contain unchanged images\n",
    "print(f\"\\n\\nOriginal cat's directory has {len(os.listdir(CAT_SOURCE_DIR))} images\")\n",
    "print(f\"Original dog's directory has {len(os.listdir(DOG_SOURCE_DIR))} images\\n\")\n",
    "\n",
    "# Training and validation splits\n",
    "print(f\"There are {len(os.listdir(TRAINING_CATS_DIR))} images of cats for training\")\n",
    "print(f\"There are {len(os.listdir(TRAINING_DOGS_DIR))} images of dogs for training\")\n",
    "print(f\"There are {len(os.listdir(VALIDATION_CATS_DIR))} images of cats for validation\")\n",
    "print(f\"There are {len(os.listdir(VALIDATION_DOGS_DIR))} images of dogs for validation\")"
   ]
  },
  {
   "cell_type": "code",
   "execution_count": 22,
   "metadata": {},
   "outputs": [],
   "source": [
    "def train_val_generators(TRAINING_DIR, VALIDATION_DIR):\n",
    "  # Creates the training and validation data generators\n",
    "\n",
    "\n",
    "  # Instantiate the ImageDataGenerator class to do data augmentation\n",
    "  train_datagen = ImageDataGenerator(rescale = 1.0/255.)\n",
    "\n",
    "  # Pass in the appropiate arguments to the flow_from_directory method\n",
    "  train_generator = train_datagen.flow_from_directory(directory = TRAINING_DIR,\n",
    "                                                      batch_size = 128,\n",
    "                                                      class_mode = 'binary',\n",
    "                                                      target_size=(150, 150))\n",
    "\n",
    "  # Instantiate the ImageDataGenerator class (don't forget to set the rescale argument)\n",
    "  validation_datagen = ImageDataGenerator(rescale = 1.0/255.)\n",
    "\n",
    "  # Pass in the appropiate arguments to the flow_from_directory method\n",
    "  validation_generator = validation_datagen.flow_from_directory(directory = VALIDATION_DIR,\n",
    "                                                                batch_size = 16,\n",
    "                                                                class_mode='binary',\n",
    "                                                                target_size=(150, 150))\n",
    "  return train_generator, validation_generator"
   ]
  },
  {
   "cell_type": "code",
   "execution_count": 23,
   "metadata": {},
   "outputs": [
    {
     "name": "stdout",
     "output_type": "stream",
     "text": [
      "Found 22498 images belonging to 2 classes.\n",
      "Found 2500 images belonging to 2 classes.\n"
     ]
    }
   ],
   "source": [
    "train_generator, validation_generator = train_val_generators(TRAINING_DIR, VALIDATION_DIR)"
   ]
  },
  {
   "cell_type": "code",
   "execution_count": 30,
   "metadata": {},
   "outputs": [],
   "source": [
    "def create_model():\n",
    "  # DEFINE A KERAS MODEL TO CLASSIFY CATS V DOGS\n",
    "  # USE AT LEAST 3 CONVOLUTION LAYERS (USE MORE BUT TAKES MORE TIME)\n",
    "\n",
    "  ### START CODE HERE\n",
    "  model = tf.keras.models.Sequential([ \n",
    "      tf.keras.layers.Conv2D(16, (3,3), activation='relu', input_shape=(150, 150, 3)),\n",
    "      tf.keras.layers.MaxPooling2D(2, 2),\n",
    "      tf.keras.layers.Conv2D(32, (3,3), activation='relu'),\n",
    "      tf.keras.layers.MaxPooling2D(2,2),\n",
    "      tf.keras.layers.Conv2D(64, (3,3), activation='relu'),\n",
    "      tf.keras.layers.MaxPooling2D(2,2),\n",
    "      tf.keras.layers.Conv2D(64, (3,3), activation='relu'),\n",
    "      tf.keras.layers.MaxPooling2D(2,2),\n",
    "      tf.keras.layers.Conv2D(64, (3,3), activation='relu'),\n",
    "      tf.keras.layers.MaxPooling2D(2,2),\n",
    "      tf.keras.layers.Flatten(),\n",
    "      tf.keras.layers.Dense(512,activation = 'relu'),\n",
    "      tf.keras.layers.Dense(1,activation='sigmoid')\n",
    "  ])\n",
    "\n",
    "    \n",
    "  model.compile(optimizer= tf.keras.optimizers.RMSprop(learning_rate=0.001),\n",
    "                loss = 'binary_crossentropy',\n",
    "                metrics=['accuracy']) \n",
    "    \n",
    "  return model\n"
   ]
  },
  {
   "cell_type": "code",
   "execution_count": 31,
   "metadata": {},
   "outputs": [
    {
     "name": "stdout",
     "output_type": "stream",
     "text": [
      "Epoch 1/15\n",
      "  6/176 [>.............................] - ETA: 3:06 - loss: 0.7030 - accuracy: 0.5091"
     ]
    },
    {
     "name": "stderr",
     "output_type": "stream",
     "text": [
      "c:\\Users\\Siddharth\\AppData\\Local\\Programs\\Python\\Python310\\lib\\site-packages\\PIL\\TiffImagePlugin.py:822: UserWarning: Truncated File Read\n",
      "  warnings.warn(str(msg))\n"
     ]
    },
    {
     "name": "stdout",
     "output_type": "stream",
     "text": [
      "176/176 [==============================] - 214s 1s/step - loss: 0.6562 - accuracy: 0.6150 - val_loss: 0.5922 - val_accuracy: 0.6740\n",
      "Epoch 2/15\n",
      "176/176 [==============================] - 115s 651ms/step - loss: 0.5800 - accuracy: 0.6918 - val_loss: 0.5258 - val_accuracy: 0.7356\n",
      "Epoch 3/15\n",
      "176/176 [==============================] - 104s 590ms/step - loss: 0.5129 - accuracy: 0.7486 - val_loss: 0.5346 - val_accuracy: 0.7280\n",
      "Epoch 4/15\n",
      "176/176 [==============================] - 118s 671ms/step - loss: 0.4623 - accuracy: 0.7828 - val_loss: 0.4620 - val_accuracy: 0.7796\n",
      "Epoch 5/15\n",
      "176/176 [==============================] - 118s 668ms/step - loss: 0.4170 - accuracy: 0.8050 - val_loss: 0.4236 - val_accuracy: 0.8064\n",
      "Epoch 6/15\n",
      "176/176 [==============================] - 117s 664ms/step - loss: 0.3805 - accuracy: 0.8286 - val_loss: 0.3962 - val_accuracy: 0.8128\n",
      "Epoch 7/15\n",
      "176/176 [==============================] - 117s 664ms/step - loss: 0.3404 - accuracy: 0.8475 - val_loss: 0.3663 - val_accuracy: 0.8344\n",
      "Epoch 8/15\n",
      "176/176 [==============================] - 108s 615ms/step - loss: 0.3101 - accuracy: 0.8641 - val_loss: 0.3552 - val_accuracy: 0.8512\n",
      "Epoch 9/15\n",
      "176/176 [==============================] - 104s 588ms/step - loss: 0.2725 - accuracy: 0.8818 - val_loss: 0.3688 - val_accuracy: 0.8384\n",
      "Epoch 10/15\n",
      "176/176 [==============================] - 103s 587ms/step - loss: 0.2370 - accuracy: 0.9011 - val_loss: 0.3050 - val_accuracy: 0.8728\n",
      "Epoch 11/15\n",
      "176/176 [==============================] - 106s 603ms/step - loss: 0.2048 - accuracy: 0.9150 - val_loss: 0.4101 - val_accuracy: 0.8292\n",
      "Epoch 12/15\n",
      "176/176 [==============================] - 108s 611ms/step - loss: 0.1801 - accuracy: 0.9251 - val_loss: 0.3298 - val_accuracy: 0.8788\n",
      "Epoch 13/15\n",
      "176/176 [==============================] - 106s 601ms/step - loss: 0.1568 - accuracy: 0.9361 - val_loss: 0.3698 - val_accuracy: 0.8632\n",
      "Epoch 14/15\n",
      "176/176 [==============================] - 105s 596ms/step - loss: 0.1312 - accuracy: 0.9474 - val_loss: 0.3415 - val_accuracy: 0.8744\n",
      "Epoch 15/15\n",
      "176/176 [==============================] - 109s 620ms/step - loss: 0.1162 - accuracy: 0.9540 - val_loss: 0.4880 - val_accuracy: 0.8556\n"
     ]
    }
   ],
   "source": [
    "model = create_model()\n",
    "\n",
    "# Train the model\n",
    "history = model.fit(train_generator,\n",
    "                    epochs=15,\n",
    "                    verbose=1,\n",
    "                    validation_data = validation_generator)"
   ]
  },
  {
   "cell_type": "code",
   "execution_count": 32,
   "metadata": {},
   "outputs": [
    {
     "data": {
      "image/png": "[encoded data removed]",
      "text/plain": [
       "<Figure size 432x288 with 1 Axes>"
      ]
     },
     "metadata": {
      "needs_background": "light"
     },
     "output_type": "display_data"
    },
    {
     "name": "stdout",
     "output_type": "stream",
     "text": [
      "\n"
     ]
    },
    {
     "data": {
      "image/png": "[encoded data removed]",
      "text/plain": [
       "<Figure size 432x288 with 1 Axes>"
      ]
     },
     "metadata": {
      "needs_background": "light"
     },
     "output_type": "display_data"
    }
   ],
   "source": [
    "# Retrieve a list of list results on training and test data\n",
    "# sets for each training epoch\n",
    "acc=history.history['accuracy']\n",
    "val_acc=history.history['val_accuracy']\n",
    "loss=history.history['loss']\n",
    "val_loss=history.history['val_loss']\n",
    "\n",
    "epochs=range(len(acc)) # Get number of epochs\n",
    "\n",
    "# Plot training and validation accuracy per epoch\n",
    "plt.plot(epochs, acc, 'r', \"Training Accuracy\")\n",
    "plt.plot(epochs, val_acc, 'b', \"Validation Accuracy\")\n",
    "plt.title('Training and validation accuracy')\n",
    "plt.show()\n",
    "print(\"\")\n",
    "\n",
    "# Plot training and validation loss per epoch\n",
    "plt.plot(epochs, loss, 'r', \"Training Loss\")\n",
    "plt.plot(epochs, val_loss, 'b', \"Validation Loss\")\n",
    "plt.show()"
   ]
  },
  {
   "cell_type": "code",
   "execution_count": null,
   "metadata": {},
   "outputs": [],
   "source": [
    "'''\n",
    "# Evaluate the model on the test data using `evaluate`\n",
    "# With using tkinter we can custom load the file and then choose the image letting the Model to predict the class\n",
    "# The model will predict the class of the image and the accuracy of the model will be displayed\n",
    "\n",
    "def openfile():\n",
    "    filename = filedialog.askopenfilename()\n",
    "    return filename\n",
    "\n",
    "parent = tk.Tk()\n",
    "frame = tk.Frame(parent)\n",
    "frame.pack()\n",
    "\n",
    "text_disp= tk.Button(frame, \n",
    "                   text=\"open file \", \n",
    "                   command=openfile\n",
    "                   )\n",
    "\n",
    "text_disp.pack(side=tk.LEFT)\n",
    "\n",
    "exit_button = tk.Button(frame,\n",
    "                   text=\"Exit\",\n",
    "                   fg=\"green\",\n",
    "                   command=quit)\n",
    "exit_button.pack(side=tk.RIGHT)\n",
    "\n",
    "parent.mainloop()\n",
    "\n",
    "\n",
    "# create a windown with title \"select image for classification\" and button to select the file\n",
    "root = Tk()\n",
    "root.title(\"select image for classification\")\n",
    "root.geometry(\"300x100\")\n",
    "button = Button(root, text=\"Select Image\", command=openfile)\n",
    "button.pack() \n",
    "root.mainloop()  \n",
    "'''\n",
    "\n",
    "fn = \"imagetest/anotherimage.jfif\"\n",
    "\n",
    "# predicting images\n",
    "path = fn\n",
    "img = tf.keras.utils.load_img(path, target_size=(150, 150))\n",
    "x = tf.keras.utils.img_to_array(img)\n",
    "x /= 255\n",
    "x = np.expand_dims(x, axis=0)\n",
    "\n",
    "# display the image in the path \n",
    "plt.imshow(img)\n",
    "images = np.vstack([x])\n",
    "classes = model.predict(images, batch_size=10)\n",
    "print(classes[0])\n",
    "if classes[0]>0.5:\n",
    "    print(fn + \" is a cat\")\n",
    "else:\n",
    "    print(fn + \" is a dog\")"
   ]
  }
 ],
 "metadata": {
  "kernelspec": {
   "display_name": "Python 3.10.3 64-bit",
   "language": "python",
   "name": "python3"
  },
  "language_info": {
   "codemirror_mode": {
    "name": "ipython",
    "version": 3
   },
   "file_extension": ".py",
   "mimetype": "text/x-python",
   "name": "python",
   "nbconvert_exporter": "python",
   "pygments_lexer": "ipython3",
   "version": "3.10.3"
  },
  "orig_nbformat": 4,
  "vscode": {
   "interpreter": {
    "hash": "37d127deac291ffcf9c7f40aed0f25c4c2b1eb59582edad5fe8fcfda13ce033a"
   }
  }
 },
 "nbformat": 4,
 "nbformat_minor": 2
}
